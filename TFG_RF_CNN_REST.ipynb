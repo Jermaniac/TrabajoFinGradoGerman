{
 "cells": [
  {
   "cell_type": "markdown",
   "metadata": {},
   "source": [
    "### Imports de scikit-learn: incluye division del dataset en entrenamiento y test, Random forest y matriz de confusion"
   ]
  },
  {
   "cell_type": "code",
   "execution_count": 1,
   "metadata": {},
   "outputs": [],
   "source": [
    "from sklearn.model_selection import train_test_split"
   ]
  },
  {
   "cell_type": "code",
   "execution_count": 2,
   "metadata": {},
   "outputs": [],
   "source": [
    "from sklearn.ensemble import RandomForestClassifier"
   ]
  },
  {
   "cell_type": "code",
   "execution_count": 3,
   "metadata": {},
   "outputs": [],
   "source": [
    "from sklearn.metrics import confusion_matrix"
   ]
  },
  {
   "cell_type": "markdown",
   "metadata": {},
   "source": [
    "### Import de seaborn para embecellecer la matriz de confusión"
   ]
  },
  {
   "cell_type": "code",
   "execution_count": 4,
   "metadata": {},
   "outputs": [],
   "source": [
    "import seaborn as sn"
   ]
  },
  {
   "cell_type": "markdown",
   "metadata": {},
   "source": [
    "### Imports de Keras: incluye definiciones de modelo a partir de json, optimizadores de la CNN, funciones para pasar a hot encoding y funciones para que funcione la CNN."
   ]
  },
  {
   "cell_type": "code",
   "execution_count": 5,
   "metadata": {},
   "outputs": [
    {
     "name": "stderr",
     "output_type": "stream",
     "text": [
      "Using TensorFlow backend.\n"
     ]
    }
   ],
   "source": [
    "from keras.models import model_from_json"
   ]
  },
  {
   "cell_type": "code",
   "execution_count": 6,
   "metadata": {
    "scrolled": true
   },
   "outputs": [],
   "source": [
    "from keras.optimizers import *"
   ]
  },
  {
   "cell_type": "code",
   "execution_count": 7,
   "metadata": {},
   "outputs": [],
   "source": [
    "from keras.utils import to_categorical"
   ]
  },
  {
   "cell_type": "code",
   "execution_count": 8,
   "metadata": {},
   "outputs": [],
   "source": [
    "from keras.models import Sequential,Input,Model\n",
    "from keras.layers import Dense, Dropout, Flatten, Activation\n",
    "from keras.layers import Convolution2D, MaxPooling2D\n",
    "from keras.layers.normalization import BatchNormalization"
   ]
  },
  {
   "cell_type": "markdown",
   "metadata": {},
   "source": [
    "### Import para utilizar numpy arrays."
   ]
  },
  {
   "cell_type": "code",
   "execution_count": 9,
   "metadata": {},
   "outputs": [],
   "source": [
    "import numpy as np"
   ]
  },
  {
   "cell_type": "markdown",
   "metadata": {},
   "source": [
    "### Import para utilizar la libreria pandas."
   ]
  },
  {
   "cell_type": "code",
   "execution_count": 10,
   "metadata": {},
   "outputs": [],
   "source": [
    "import pandas as pd"
   ]
  },
  {
   "cell_type": "markdown",
   "metadata": {},
   "source": [
    "### Import de Matplotlib"
   ]
  },
  {
   "cell_type": "code",
   "execution_count": 11,
   "metadata": {},
   "outputs": [],
   "source": [
    "import matplotlib.pyplot as plt"
   ]
  },
  {
   "cell_type": "markdown",
   "metadata": {},
   "source": [
    "### Imports de Bottle para que funcionen las peticiones POST al servidor."
   ]
  },
  {
   "cell_type": "code",
   "execution_count": 12,
   "metadata": {},
   "outputs": [],
   "source": [
    "from bottle import Bottle,route, run, request"
   ]
  },
  {
   "cell_type": "markdown",
   "metadata": {},
   "source": [
    "### Imports de PIL para abrir la foto y poder manipularla."
   ]
  },
  {
   "cell_type": "code",
   "execution_count": 13,
   "metadata": {},
   "outputs": [],
   "source": [
    "from PIL import Image"
   ]
  },
  {
   "cell_type": "markdown",
   "metadata": {},
   "source": [
    "### Imports para que funcionen los archivos temporales."
   ]
  },
  {
   "cell_type": "code",
   "execution_count": 14,
   "metadata": {},
   "outputs": [],
   "source": [
    "import tempfile"
   ]
  },
  {
   "cell_type": "markdown",
   "metadata": {},
   "source": [
    "### VARIABLES GLOBALES"
   ]
  },
  {
   "cell_type": "markdown",
   "metadata": {},
   "source": [
    "Especificamos la ruta donde se encuentra el dataset a utilizar."
   ]
  },
  {
   "cell_type": "code",
   "execution_count": 15,
   "metadata": {},
   "outputs": [],
   "source": [
    "filename = 'G:/datos/TFG/Dataset/fer2013.csv'"
   ]
  },
  {
   "cell_type": "markdown",
   "metadata": {},
   "source": [
    "Estas son las expresiones disponibles en el dataset\n",
    "- 0 : angry\n",
    "- 1 : disgust\n",
    "- 2 : fear\n",
    "- 3 : happy\n",
    "- 4 : sad\n",
    "- 5 : surprise\n",
    "- 6 : neutral"
   ]
  },
  {
   "cell_type": "code",
   "execution_count": 16,
   "metadata": {},
   "outputs": [],
   "source": [
    "expressions = ('angry', 'disgust', 'fear', 'happy', 'sad', 'surprise', 'neutral')"
   ]
  },
  {
   "cell_type": "markdown",
   "metadata": {},
   "source": [
    "Direccion ip en donde se realizan las peticiones"
   ]
  },
  {
   "cell_type": "code",
   "execution_count": 17,
   "metadata": {},
   "outputs": [],
   "source": [
    "ip = '192.168.1.40'"
   ]
  },
  {
   "cell_type": "markdown",
   "metadata": {},
   "source": [
    "# PROGRAMA PRINCIPAL"
   ]
  },
  {
   "cell_type": "markdown",
   "metadata": {},
   "source": [
    "Este programa funciona usando una red neuronal convolucional para realizar las predicciones.\n",
    "El programa es controlado mediante unas variables para indicar si se desea realizar algunas acciones que no son obligatorias para el funcionamiento del programa, pero que ayudan a entender mejor el funcionamiento.\n",
    "Es por ello, que aunque el programa funcione con una CNN, se ha incorporado también RandomForest con fines de aprendizaje. De esta forma, se ha podido comprobar qué método es mejor para clasificar imágenes.\n",
    "Las imágenes que llegan como peticion del cliente se han adecuado para que las pueda interpretar la CNN."
   ]
  },
  {
   "cell_type": "markdown",
   "metadata": {},
   "source": [
    "## Variables principales a modificar dependiendo de los resultados que se quiera"
   ]
  },
  {
   "cell_type": "code",
   "execution_count": 18,
   "metadata": {},
   "outputs": [],
   "source": [
    "# variable que indica si se quiere visualizar los datos\n",
    "analisis = True\n",
    "# variable que indica si existe un modelo guardado ya entrenado, si no existe se entrena uno.\n",
    "model_saved = True\n",
    "# variable que indica si se deben mostrar las graficas con datos del entrenamiento, DEBE DE HABERSE REALIZADO UN ENTRENAMIENTO.\n",
    "mostrar_resultados_entrenamiento = False\n",
    "# variable que indica si se debe imprimir la matriz para analizar resultados, debe de haber un modelo guardado y cargado.\n",
    "matrix = True\n",
    "# variable que indica si se desea probar y ver los resultados con RandomForest\n",
    "RandomForest = True"
   ]
  },
  {
   "cell_type": "markdown",
   "metadata": {},
   "source": [
    "# FUNCIONES PARA ANÁLISIS DE DATOS"
   ]
  },
  {
   "cell_type": "markdown",
   "metadata": {},
   "source": [
    "### Funcion para comprobar la estructura del dataset."
   ]
  },
  {
   "cell_type": "code",
   "execution_count": 19,
   "metadata": {},
   "outputs": [],
   "source": [
    "def extractCheckData():\n",
    "    # extraemos los datos del archivo csv usando la libreria pandas\n",
    "    df=pd.read_csv(filename)\n",
    "    print(df)\n",
    "    return df"
   ]
  },
  {
   "cell_type": "markdown",
   "metadata": {},
   "source": [
    "### Función para contar cuantas fotografías hay para cada tipo de expresión"
   ]
  },
  {
   "cell_type": "code",
   "execution_count": 20,
   "metadata": {},
   "outputs": [],
   "source": [
    "def countData(df):\n",
    "    print(\"Recuento de la cantidad de fotografias de cada tipo: \")\n",
    "    # colocamos las expresiones en el orden correcto\n",
    "    emotions = ('happy', 'neutral', 'sad', 'fear', 'angry', 'surprise', 'disgust')\n",
    "    # creamos otro data frame donde incluimos las expresiones y el total de cada tipo\n",
    "    dframe = pd.DataFrame({'emotion':emotions, 'total':df['emotion'].value_counts()})\n",
    "    print(dframe)\n",
    "    # creamos la grafica\n",
    "    dframe.plot.bar(x='emotion',y='total',rot=0)"
   ]
  },
  {
   "cell_type": "markdown",
   "metadata": {},
   "source": [
    "### Función para imprimir varios fotos del dataset."
   ]
  },
  {
   "cell_type": "code",
   "execution_count": 21,
   "metadata": {},
   "outputs": [],
   "source": [
    "def plotPhotos(df):\n",
    "    # variables que indican que dos fotos se van a mostrar\n",
    "    numfoto1 = 0\n",
    "    numfoto2 = 5\n",
    "    # extraemos todas los pixeles de todas las fotos en una Serie\n",
    "    data = df['pixels']\n",
    "    # extraemos todas las etiquetas\n",
    "    label = df['emotion']\n",
    "    # escogemos mostrar la primera foto y la tercera\n",
    "    # es necesario separar por espacios para conseguir una lista de numeros\n",
    "    foto1 = data[numfoto1].split(' ')\n",
    "    foto2 = data[numfoto2].split(' ')\n",
    "    # extraemos las etiquetas correspondientes\n",
    "    label1 = label[numfoto1]\n",
    "    label2 = label[numfoto2]\n",
    "    # se convierten en numpy array\n",
    "    # ES IMPORTANTE USAR EL TIPO 'uint8' o bien np.float32 para que plt.imshow pueda mostrarlos\n",
    "    arr1 = np.array(foto1,dtype='uint8')\n",
    "    arr2 = np.array(foto2,dtype='uint8')\n",
    "    # se indica que las fotos son de 48x48\n",
    "    img = arr1.reshape(48,48)\n",
    "    img2 = arr2.reshape(48,48)\n",
    "    # mostramos las fotos y la etiqueta correspondiente\n",
    "    # se usa figure para poder mostrar mas de una imagen\n",
    "    plt.title(expressions[label1.item()])\n",
    "    plt.imshow(img)\n",
    "    plt.figure()\n",
    "    plt.title(expressions[label2.item()])\n",
    "    plt.imshow(img2)"
   ]
  },
  {
   "cell_type": "markdown",
   "metadata": {},
   "source": [
    "# FUNCIONES PARA PREPARAR LOS DATOS"
   ]
  },
  {
   "cell_type": "markdown",
   "metadata": {},
   "source": [
    "### Función para obtener los datos (X=pixels, Y=emotion) y almacenarlos en variables."
   ]
  },
  {
   "cell_type": "code",
   "execution_count": 22,
   "metadata": {},
   "outputs": [],
   "source": [
    "def getData():\n",
    "    # declaramos las variables contenedoras de los pixeles (X) y de las etiquetas (Y).\n",
    "    X = []\n",
    "    Y = []\n",
    "    # evitamos la primera linea que contiene los nombres de las columnas.\n",
    "    void = True\n",
    "    # comenzamos a leer el archivo csv fila por fila\n",
    "    for line in open(filename):\n",
    "        if void:\n",
    "            void = False\n",
    "        else:\n",
    "            # dividimos la linea por la coma de forma que tenemos un array con los datos necesarios.\n",
    "            fila = line.split(',')\n",
    "            # apilamos los datos en las variables\n",
    "            Y.append(np.array(fila[0],dtype='uint8'))\n",
    "            # dividimos la columna \"pixels\" una vez mas para tener todos los numeros por separado\n",
    "            fotoSplit = fila[1].split(' ')\n",
    "            X.append(np.array(fotoSplit,dtype='uint8'))\n",
    "    # convertimos a numpy array para tratar los datos.\n",
    "    # ademas procesamos los pixeles de forma que todos tengan un valor entre 0 y 1 (dividimos entre 255).\n",
    "    X = np.array(X) / 255.0\n",
    "    Y = np.array(Y)\n",
    "    return X, Y"
   ]
  },
  {
   "cell_type": "markdown",
   "metadata": {},
   "source": [
    "### Función para cargar los datos del dataset, redimensionar y crear variables de entrenamiento y test"
   ]
  },
  {
   "cell_type": "code",
   "execution_count": 23,
   "metadata": {},
   "outputs": [],
   "source": [
    "def loadData():\n",
    "    # ETAPA 1\n",
    "    # llamamos a la funcion para obtener los datos del dataset\n",
    "    X,Y = getData()\n",
    "    # ETAPA 2\n",
    "    # redimensionamos X para que se adecue a la red neuronal\n",
    "    # (shape= numero de fotos,height=48,width=48,gray=1)\n",
    "    X = X.reshape(35887, 48, 48, 1)\n",
    "    # ETAPA 3\n",
    "    # creamos variables de entrenamiento\n",
    "    X_train, X_test, Y_train, Y_test = train_test_split(X, Y, test_size=0.25, random_state=0)\n",
    "    # ETAPA 4\n",
    "    #print(\"SIN one hot encoding: \")\n",
    "    #print(Y_train)\n",
    "    #print(\"Shape: \",Y_train.shape)\n",
    "    Y_train = to_categorical(Y_train, num_classes=7)\n",
    "    Y_test = to_categorical(Y_test, num_classes=7)\n",
    "    #print(\"---------------------------------------------------\")\n",
    "    #print(\"CON one hot encoding: \")\n",
    "    #print(Y_train)\n",
    "    #print(\"Shape: \",Y_train.shape)\n",
    "    return X_train,X_test,Y_train,Y_test"
   ]
  },
  {
   "cell_type": "markdown",
   "metadata": {},
   "source": [
    "# FUNCIONES CON LA ARQUITECTURA DEL MODELO CNN"
   ]
  },
  {
   "cell_type": "code",
   "execution_count": 24,
   "metadata": {},
   "outputs": [],
   "source": [
    "def my_model1():\n",
    "    model = Sequential()\n",
    "    \n",
    "    model.add(Convolution2D(64, (3, 3), input_shape= (48,48,1) ,activation='relu'))\n",
    "    model.add(MaxPooling2D(pool_size=(2, 2)))\n",
    "\n",
    "    model.add(Flatten())\n",
    "    model.add(Dense(7,activation='softmax'))\n",
    "\n",
    "    adamOpt = Adam(learning_rate=0.001)\n",
    "    \n",
    "    model.compile(loss='categorical_crossentropy', metrics=['accuracy'],optimizer=adamOpt)\n",
    "    \n",
    "    model.summary()\n",
    "    return model"
   ]
  },
  {
   "cell_type": "code",
   "execution_count": 25,
   "metadata": {},
   "outputs": [],
   "source": [
    "def my_model2():\n",
    "    model = Sequential()\n",
    "    \n",
    "    model.add(Convolution2D(64, (3, 3), input_shape= (48,48,1) ,activation='relu',padding='same'))\n",
    "    model.add(MaxPooling2D(pool_size=(2, 2)))\n",
    "    \n",
    "    model.add(Convolution2D(128, (3, 3),activation='relu',padding='same'))\n",
    "    model.add(MaxPooling2D(pool_size=(2, 2)))\n",
    "    \n",
    "    model.add(Convolution2D(128, (3, 3),activation='relu',padding='same'))\n",
    "    model.add(MaxPooling2D(pool_size=(2, 2)))\n",
    "    \n",
    "    model.add(Convolution2D(256, (3, 3),activation='relu',padding='same'))\n",
    "    model.add(MaxPooling2D(pool_size=(2, 2)))\n",
    "\n",
    "    model.add(Flatten())\n",
    "    model.add(Dense(7,activation='softmax'))\n",
    "    \n",
    "    adamOpt = Adam(learning_rate=0.001)\n",
    "    \n",
    "    model.compile(loss='categorical_crossentropy', metrics=['accuracy'],optimizer=adamOpt)\n",
    "    \n",
    "    model.summary()\n",
    "    return model"
   ]
  },
  {
   "cell_type": "code",
   "execution_count": 26,
   "metadata": {},
   "outputs": [],
   "source": [
    "def my_model3():\n",
    "    model = Sequential()\n",
    "    \n",
    "    model.add(Convolution2D(64, (3, 3), input_shape= (48,48,1) ,activation='relu',padding='same'))\n",
    "    model.add(MaxPooling2D(pool_size=(2, 2)))\n",
    "    model.add(Dropout(0.2))\n",
    "\n",
    "    \n",
    "    model.add(Convolution2D(128, (3, 3),activation='relu',padding='same'))\n",
    "    model.add(MaxPooling2D(pool_size=(2, 2)))\n",
    "    model.add(Dropout(0.2))\n",
    "\n",
    "    \n",
    "    model.add(Convolution2D(128, (3, 3),activation='relu',padding='same'))\n",
    "    model.add(MaxPooling2D(pool_size=(2, 2)))\n",
    "    model.add(Dropout(0.2))\n",
    "\n",
    "    \n",
    "    model.add(Convolution2D(256, (3, 3) ,activation='relu',padding='same'))\n",
    "    model.add(MaxPooling2D(pool_size=(2, 2)))\n",
    "    model.add(Dropout(0.2))\n",
    "\n",
    "\n",
    "    model.add(Flatten())\n",
    "    model.add(Dropout(0.2))\n",
    "    model.add(Dense(7,activation='softmax'))\n",
    "    \n",
    "    adamOpt = Adam(learning_rate=0.001)\n",
    "    \n",
    "    model.compile(loss='categorical_crossentropy', metrics=['accuracy'],optimizer=adamOpt)\n",
    "    \n",
    "    model.summary()\n",
    "    return model"
   ]
  },
  {
   "cell_type": "code",
   "execution_count": 27,
   "metadata": {},
   "outputs": [],
   "source": [
    "def my_model4():\n",
    "    model = Sequential()\n",
    "    \n",
    "    model.add(Convolution2D(64, (3, 3), input_shape= (48,48,1) ,activation='relu',padding='same'))\n",
    "    model.add(Convolution2D(64, (3, 3), input_shape= (48,48,1) ,activation='relu',padding='same'))\n",
    "    model.add(MaxPooling2D(pool_size=(2, 2)))\n",
    "    model.add(Dropout(0.2))\n",
    "\n",
    "    \n",
    "    model.add(Convolution2D(128, (3, 3) ,activation='relu',padding='same'))\n",
    "    model.add(MaxPooling2D(pool_size=(2, 2)))\n",
    "    model.add(Dropout(0.2))\n",
    "    \n",
    "    model.add(Convolution2D(128, (3, 3) ,activation='relu',padding='same'))\n",
    "    model.add(MaxPooling2D(pool_size=(2, 2)))\n",
    "    model.add(Dropout(0.2))\n",
    "\n",
    "    model.add(Flatten())\n",
    "    model.add(Dropout(0.2))\n",
    "    model.add(Dense(7,activation='softmax'))\n",
    "    \n",
    "    adamOpt = Adam(learning_rate=0.001)\n",
    "    \n",
    "    model.compile(loss='categorical_crossentropy', metrics=['accuracy'],optimizer=adamOpt)\n",
    "    \n",
    "    model.summary()\n",
    "    return model"
   ]
  },
  {
   "cell_type": "markdown",
   "metadata": {},
   "source": [
    "# FUNCIONES PARA MOSTRAR RESULTADOS DEL ENTRENAMIENTO"
   ]
  },
  {
   "cell_type": "markdown",
   "metadata": {},
   "source": [
    "### Función para mostrar la matriz con los resultados de los tests."
   ]
  },
  {
   "cell_type": "code",
   "execution_count": 28,
   "metadata": {},
   "outputs": [],
   "source": [
    "def my_matrix():\n",
    "    # cargamos los datos\n",
    "    X_train, X_test, Y_train, Y_test = loadData()   \n",
    "    count = 0\n",
    "    prep_predictions = model.predict_classes(X_test, batch_size=128, verbose=0)\n",
    "    prep_true=np.argmax(Y_test, axis=1)\n",
    "    for i in range (len(prep_predictions)):\n",
    "        if prep_predictions[i]==prep_true[i]:\n",
    "            count = count + 1\n",
    "    print('Porcentaje de acierto CNN: ',count/len(prep_true))\n",
    "    # se crea la matriz de confusion normalizada y se muestra\n",
    "    cm = confusion_matrix(prep_true, prep_predictions, normalize='true')\n",
    "    y_pos = np.arange(len(expressions))\n",
    "    plt.figure(figsize=(9,8))\n",
    "    sn.heatmap(cm,cmap=\"Blues\", annot=True)\n",
    "    plt.xlabel('PREDICCION')\n",
    "    plt.ylabel('REAL')\n",
    "    plt.xticks(y_pos,expressions)\n",
    "    plt.yticks(y_pos,expressions)\n",
    "    plt.title(\"Red Neuronal Convolucional\")\n",
    "    # si se ha utilizado RandomForest tambien se pinta su matriz de confusion\n",
    "    if (RandomForest==True):\n",
    "        # almacenamos las predicciones en una variable y las reales en otra variable\n",
    "        y_predicted = rf.predict(x_test)\n",
    "        y_real = y_test\n",
    "        # se crea la matriz de confusion normalizada y se muestra\n",
    "        cm = confusion_matrix(y_real, y_predicted,normalize='true')\n",
    "        y_pos = np.arange(len(expressions))\n",
    "        plt.figure(figsize=(9,8))\n",
    "        sn.heatmap(cm, cmap=\"Blues\", annot=True)\n",
    "        plt.xlabel('PREDICCION')\n",
    "        plt.ylabel('REAL')\n",
    "        plt.xticks(y_pos,expressions)\n",
    "        plt.yticks(y_pos,expressions)\n",
    "        plt.title(\"Random Forest\")\n",
    "        print(\"Porcentaje de acierto Random Forest: \", rf.score(x_test,y_test))"
   ]
  },
  {
   "cell_type": "markdown",
   "metadata": {},
   "source": [
    "### Función que imprime las gráficas con los datos de la precisión y la perdida a lo largo del entrenamiento"
   ]
  },
  {
   "cell_type": "code",
   "execution_count": 29,
   "metadata": {},
   "outputs": [],
   "source": [
    "def plot_resultados_entrenamiento():\n",
    "    accuracy = h.history['accuracy']\n",
    "    val_accuracy = h.history['val_accuracy']\n",
    "    loss = h.history['loss']\n",
    "    val_loss = h.history['val_loss']\n",
    "    epochs = range(len(accuracy))\n",
    "    plt.plot(epochs, accuracy, 'blue', label='Precision de entrenamiento')\n",
    "    plt.plot(epochs, val_accuracy, 'red', label='Precision de validacion')\n",
    "    plt.xlabel('Epocas')\n",
    "    plt.ylabel('Precision')\n",
    "    plt.title('PRECISION')\n",
    "    plt.legend()\n",
    "    plt.figure()\n",
    "    plt.plot(epochs, loss, 'blue', label='Perdida del entrenamiento')\n",
    "    plt.plot(epochs, val_loss, 'red', label='Perdida de la validacion')\n",
    "    plt.xlabel('Epocas')\n",
    "    plt.ylabel('Perdida')\n",
    "    plt.title('PERDIDA')\n",
    "    plt.legend()\n",
    "    plt.show()"
   ]
  },
  {
   "cell_type": "markdown",
   "metadata": {},
   "source": [
    "# FUNCIONES QUE TRATAN LA FOTO RECIBIDA DEL CLIENTE"
   ]
  },
  {
   "cell_type": "markdown",
   "metadata": {},
   "source": [
    "### Función que prepara la foto recibida para que la CNN pueda interpretarla."
   ]
  },
  {
   "cell_type": "code",
   "execution_count": 30,
   "metadata": {},
   "outputs": [],
   "source": [
    "def prepare_photo(imagen):\n",
    "    # convertimos la foto a gris y a tamaño 48x48\n",
    "    img = imagen.convert('L').resize((48,48))\n",
    "    # devolvemos un array con los pixeles de la foto con las dimensiones adecuadas\n",
    "    x = np.array(img).reshape(1,48,48,1)\n",
    "    x = x / 255\n",
    "    return x"
   ]
  },
  {
   "cell_type": "markdown",
   "metadata": {},
   "source": [
    "### Función para realizar la predicción correspondiente."
   ]
  },
  {
   "cell_type": "code",
   "execution_count": 31,
   "metadata": {},
   "outputs": [],
   "source": [
    "def do_prediction(ImArray):\n",
    "\n",
    "    porcentajes = model.predict(ImArray).tolist()\n",
    "    #retornamos los datos de la prediccion en formato json\n",
    "    return prepare_json(porcentajes)\n"
   ]
  },
  {
   "cell_type": "markdown",
   "metadata": {},
   "source": [
    "### Función que prepara los resultados para devolver un json al cliente."
   ]
  },
  {
   "cell_type": "code",
   "execution_count": 32,
   "metadata": {},
   "outputs": [],
   "source": [
    "def prepare_json(porcentajes):\n",
    "    jsons = {\"expressions\":[]}\n",
    "    # recorremos los probabilidades de cada expresion\n",
    "    a=porcentajes[0]\n",
    "    for i in range(0,len(a)):\n",
    "        # establecemos como maximo 3 decimales\n",
    "        a[i] = round(a[i],3)\n",
    "        jsons[\"expressions\"].append({\"mood\":expressions[i],\"probability\":a[i]})\n",
    "    # devolvemos un json con todas las probabilidades\n",
    "    return jsons"
   ]
  },
  {
   "cell_type": "markdown",
   "metadata": {},
   "source": [
    "# PROGRAMA"
   ]
  },
  {
   "cell_type": "markdown",
   "metadata": {},
   "source": [
    "### Si se ha indicado, se muestran los datos tal y como estan en el dataset."
   ]
  },
  {
   "cell_type": "code",
   "execution_count": 33,
   "metadata": {
    "scrolled": true
   },
   "outputs": [
    {
     "name": "stdout",
     "output_type": "stream",
     "text": [
      "       emotion                                             pixels        Usage\n",
      "0            0  70 80 82 72 58 58 60 63 54 58 60 48 89 115 121...     Training\n",
      "1            0  151 150 147 155 148 133 111 140 170 174 182 15...     Training\n",
      "2            2  231 212 156 164 174 138 161 173 182 200 106 38...     Training\n",
      "3            4  24 32 36 30 32 23 19 20 30 41 21 22 32 34 21 1...     Training\n",
      "4            6  4 0 0 0 0 0 0 0 0 0 0 0 3 15 23 28 48 50 58 84...     Training\n",
      "...        ...                                                ...          ...\n",
      "35882        6  50 36 17 22 23 29 33 39 34 37 37 37 39 43 48 5...  PrivateTest\n",
      "35883        3  178 174 172 173 181 188 191 194 196 199 200 20...  PrivateTest\n",
      "35884        0  17 17 16 23 28 22 19 17 25 26 20 24 31 19 27 9...  PrivateTest\n",
      "35885        3  30 28 28 29 31 30 42 68 79 81 77 67 67 71 63 6...  PrivateTest\n",
      "35886        2  19 13 14 12 13 16 21 33 50 57 71 84 97 108 122...  PrivateTest\n",
      "\n",
      "[35887 rows x 3 columns]\n",
      "Recuento de la cantidad de fotografias de cada tipo: \n",
      "    emotion  total\n",
      "3     happy   8989\n",
      "6   neutral   6198\n",
      "4       sad   6077\n",
      "2      fear   5121\n",
      "0     angry   4953\n",
      "5  surprise   4002\n",
      "1   disgust    547\n"
     ]
    },
    {
     "data": {
      "image/png": "[encoded data removed]",
      "text/plain": [
       "<Figure size 432x288 with 1 Axes>"
      ]
     },
     "metadata": {
      "needs_background": "light"
     },
     "output_type": "display_data"
    },
    {
     "data": {
      "image/png": "[encoded data removed]",
      "text/plain": [
       "<Figure size 432x288 with 1 Axes>"
      ]
     },
     "metadata": {
      "needs_background": "light"
     },
     "output_type": "display_data"
    },
    {
     "data": {
      "image/png": "[encoded data removed]",
      "text/plain": [
       "<Figure size 432x288 with 1 Axes>"
      ]
     },
     "metadata": {
      "needs_background": "light"
     },
     "output_type": "display_data"
    }
   ],
   "source": [
    "if (analisis==True):\n",
    "    df = extractCheckData()\n",
    "    countData(df)\n",
    "    plt.figure()\n",
    "    plotPhotos(df)"
   ]
  },
  {
   "cell_type": "markdown",
   "metadata": {},
   "source": [
    "Ahora sabemos que existen 3 columnas:\n",
    "- emotion: indica que expresion tiene la persona de la foto.\n",
    "- pixels: la foto en pixeles.\n",
    "- usage: el uso que se le da a dicha foto (Training/PublicTest/PrivateTest).\n",
    "NOTA: usaremos posteriormente el 25% para test."
   ]
  },
  {
   "cell_type": "markdown",
   "metadata": {},
   "source": [
    "### Si se ha indicado entrenamos usando RandomForest"
   ]
  },
  {
   "cell_type": "code",
   "execution_count": 34,
   "metadata": {},
   "outputs": [],
   "source": [
    "if (RandomForest==True):\n",
    "    # llamamos a la funcion para obtener los datos del dataset\n",
    "    X,Y = getData()\n",
    "    # creamos variables de entrenamiento y validacion\n",
    "    x_train, x_test, y_train, y_test = train_test_split(X,Y,test_size=0.25,random_state=0)\n",
    "    # entrenamos el modelo con 150 arboles\n",
    "    rf = RandomForestClassifier(n_estimators=150)\n",
    "    rf.fit(x_train,y_train)"
   ]
  },
  {
   "cell_type": "markdown",
   "metadata": {},
   "source": [
    "### Se entrena un modelo CNN o se carga uno que ya existe."
   ]
  },
  {
   "cell_type": "code",
   "execution_count": 35,
   "metadata": {
    "scrolled": true
   },
   "outputs": [
    {
     "name": "stdout",
     "output_type": "stream",
     "text": [
      "El modelo ha sido cargado.\n"
     ]
    }
   ],
   "source": [
    "# comprobamos si existe un modelo guardado o no\n",
    "if(model_saved==False):\n",
    "    # solicitamos datos\n",
    "    X_train, X_test, Y_train, Y_test = loadData()\n",
    "    # definimos el modelo\n",
    "    model = my_model7Batch()\n",
    "    # hacemos fit con un batch de tamaño 32 y 20 epoch\n",
    "    h = model.fit(x=X_train,     \n",
    "            y=Y_train, \n",
    "            batch_size=32, \n",
    "            epochs=20, \n",
    "            verbose=1, \n",
    "            validation_data=(X_test,Y_test),\n",
    "            shuffle=True\n",
    "            )\n",
    "    # pasamos el modelo a json para almacenarlo\n",
    "    model_json = model.to_json()\n",
    "    with open(\"expresionsjsonMODELtestx.json\", \"w\") as json_file:\n",
    "        json_file.write(model_json)\n",
    "    # almacenamos en formato h5\n",
    "    model.save_weights(\"expressionsh5MODELtestx.h5\")\n",
    "    print(\"El modelo ha sido generado y almacenado con exito.\")\n",
    "    mostrar_resultados_entrenamiento = True\n",
    "else:\n",
    "    # el modelo ya existe y no hace falta entrenar la NN, por lo que cargamos el json\n",
    "    json_file = open('expresionsjsonMODELtest4.json', 'r')\n",
    "    loaded_model_json = json_file.read()\n",
    "    json_file.close()\n",
    "    model = model_from_json(loaded_model_json)\n",
    "    # cargamos el archivo h5\n",
    "    model.load_weights(\"expressionsh5MODELtest4.h5\")   \n",
    "    # compilamos el modelo para poder usarlo\n",
    "    adamOpt = Adam(learning_rate=0.001)\n",
    "    model.compile(loss='categorical_crossentropy', metrics=['accuracy'],optimizer=adamOpt)\n",
    "    print(\"El modelo ha sido cargado.\")"
   ]
  },
  {
   "cell_type": "markdown",
   "metadata": {},
   "source": [
    "### Si se ha realizado un entrenamiento se muestran las gráficas de perdida y precisión."
   ]
  },
  {
   "cell_type": "code",
   "execution_count": 36,
   "metadata": {},
   "outputs": [],
   "source": [
    "if (mostrar_resultados_entrenamiento == True):\n",
    "    plot_resultados_entrenamiento()"
   ]
  },
  {
   "cell_type": "markdown",
   "metadata": {},
   "source": [
    "### Si se ha indicado, se muestra la matriz con los resultados."
   ]
  },
  {
   "cell_type": "code",
   "execution_count": 37,
   "metadata": {},
   "outputs": [
    {
     "name": "stdout",
     "output_type": "stream",
     "text": [
      "Porcentaje de acierto CNN:  0.6006464556397682\n",
      "Porcentaje de acierto Random Forest:  0.46455639768167634\n"
     ]
    },
    {
     "data": {
      "image/png": "[encoded data removed]",
      "text/plain": [
       "<Figure size 648x576 with 2 Axes>"
      ]
     },
     "metadata": {
      "needs_background": "light"
     },
     "output_type": "display_data"
    },
    {
     "data": {
      "image/png": "[encoded data removed]",
      "text/plain": [
       "<Figure size 648x576 with 2 Axes>"
      ]
     },
     "metadata": {
      "needs_background": "light"
     },
     "output_type": "display_data"
    }
   ],
   "source": [
    "if (matrix==True):\n",
    "    # llamamos a la funcion que pinta el porcentaje de acierto y la matriz\n",
    "    my_matrix()   "
   ]
  },
  {
   "cell_type": "markdown",
   "metadata": {},
   "source": [
    "### Peticion POST del lado del servidor."
   ]
  },
  {
   "cell_type": "code",
   "execution_count": 38,
   "metadata": {},
   "outputs": [],
   "source": [
    "app = Bottle()\n",
    "@app.route(\"/getMood\", method=\"POST\")\n",
    "def do_upload():\n",
    "    \n",
    "    foto = request.files[\"photo\"]\n",
    "    # usamos un archivo temporal para poder manipular la foto\n",
    "    temporal = tempfile.TemporaryFile()\n",
    "    foto.save(temporal)\n",
    "    # es necesario que la foto tenga unas caracteristicas antes de ser mandada a la CNN, por ello primero se prepara\n",
    "    imagen_lista = prepare_photo(Image.open(temporal))\n",
    "    # realizamos la prediccion de la foto lista para poder ser interpretada por la CNN\n",
    "    resultado = do_prediction(imagen_lista)\n",
    "    # cerramos el archivo temporal\n",
    "    temporal.close()\n",
    "    \n",
    "    print(resultado)\n",
    "    \n",
    "    return resultado"
   ]
  },
  {
   "cell_type": "markdown",
   "metadata": {},
   "source": [
    "### Ejecutamos el servidor para que se puedan realizar peticiones."
   ]
  },
  {
   "cell_type": "code",
   "execution_count": 39,
   "metadata": {
    "scrolled": false
   },
   "outputs": [
    {
     "name": "stderr",
     "output_type": "stream",
     "text": [
      "Bottle v0.12.18 server starting up (using WSGIRefServer())...\n",
      "Listening on http://192.168.1.40:9004/\n",
      "Hit Ctrl-C to quit.\n",
      "\n"
     ]
    },
    {
     "name": "stdout",
     "output_type": "stream",
     "text": [
      "{'expressions': [{'mood': 'angry', 'probability': 0.03}, {'mood': 'disgust', 'probability': 0.001}, {'mood': 'fear', 'probability': 0.006}, {'mood': 'happy', 'probability': 0.79}, {'mood': 'sad', 'probability': 0.128}, {'mood': 'surprise', 'probability': 0.002}, {'mood': 'neutral', 'probability': 0.042}]}\n"
     ]
    },
    {
     "name": "stderr",
     "output_type": "stream",
     "text": [
      "192.168.1.37 - - [21/Jun/2020 20:11:10] \"POST /getMood HTTP/1.1\" 200 306\n"
     ]
    },
    {
     "name": "stdout",
     "output_type": "stream",
     "text": [
      "{'expressions': [{'mood': 'angry', 'probability': 0.06}, {'mood': 'disgust', 'probability': 0.014}, {'mood': 'fear', 'probability': 0.146}, {'mood': 'happy', 'probability': 0.108}, {'mood': 'sad', 'probability': 0.287}, {'mood': 'surprise', 'probability': 0.025}, {'mood': 'neutral', 'probability': 0.36}]}\n"
     ]
    },
    {
     "name": "stderr",
     "output_type": "stream",
     "text": [
      "192.168.1.37 - - [21/Jun/2020 20:11:24] \"POST /getMood HTTP/1.1\" 200 306\n",
      "G:\\Programs\\Anaconda3\\lib\\site-packages\\bottle.py:3139: ResourceWarning: unclosed <socket.socket fd=3808, family=AddressFamily.AF_INET, type=SocketKind.SOCK_STREAM, proto=0, laddr=('192.168.1.40', 9004)>\n",
      "  pass\n",
      "ResourceWarning: Enable tracemalloc to get the object allocation traceback\n"
     ]
    }
   ],
   "source": [
    "run(app,host=ip, port=9004, debug=True)"
   ]
  }
 ],
 "metadata": {
  "kernelspec": {
   "display_name": "Python 3",
   "language": "python",
   "name": "python3"
  },
  "language_info": {
   "codemirror_mode": {
    "name": "ipython",
    "version": 3
   },
   "file_extension": ".py",
   "mimetype": "text/x-python",
   "name": "python",
   "nbconvert_exporter": "python",
   "pygments_lexer": "ipython3",
   "version": "3.7.4"
  }
 },
 "nbformat": 4,
 "nbformat_minor": 4
}
