{
 "cells": [
  {
   "cell_type": "code",
   "execution_count": 1,
   "metadata": {},
   "outputs": [],
   "source": [
    "from bottle import run,get, post, request, delete"
   ]
  },
  {
   "cell_type": "code",
   "execution_count": 2,
   "metadata": {},
   "outputs": [],
   "source": [
    "animals = [{'name' : 'Ellie', 'type' : 'Elephant'},\n",
    "           {'name' : 'Python', 'type' : 'Snake'},\n",
    "           {'name' : 'Zed', 'type' : 'Zebra'}]"
   ]
  },
  {
   "cell_type": "code",
   "execution_count": 3,
   "metadata": {},
   "outputs": [],
   "source": [
    "@get('/animal')\n",
    "def getAll():\n",
    "    return {'animals' : animals}"
   ]
  },
  {
   "cell_type": "code",
   "execution_count": 4,
   "metadata": {},
   "outputs": [],
   "source": [
    "\n",
    "@get('/animal/<name>')\n",
    "def getOne(name):\n",
    "    the_animal = [animal for animal in animals if animal['name'] == name]\n",
    "    return {'animal' : the_animal[0]}"
   ]
  },
  {
   "cell_type": "code",
   "execution_count": 5,
   "metadata": {},
   "outputs": [],
   "source": [
    "@post('/animal')\n",
    "def addOne():\n",
    "    new_animal = {'name' : request.json.get('name'), 'type' : request.json.get('type')}\n",
    "    animals.append(new_animal)\n",
    "    return {'animals' : animals}"
   ]
  },
  {
   "cell_type": "code",
   "execution_count": 11,
   "metadata": {},
   "outputs": [
    {
     "name": "stderr",
     "output_type": "stream",
     "text": [
      "Bottle v0.12.18 server starting up (using WSGIRefServer())...\n",
      "Listening on http://localhost:8081/\n",
      "Hit Ctrl-C to quit.\n",
      "\n",
      "127.0.0.1 - - [18/Mar/2020 15:37:02] \"GET / HTTP/1.1\" 404 720\n",
      "127.0.0.1 - - [18/Mar/2020 15:37:02] \"GET /favicon.ico HTTP/1.1\" 404 742\n",
      "127.0.0.1 - - [18/Mar/2020 15:37:06] \"GET /animal HTTP/1.1\" 200 123\n"
     ]
    }
   ],
   "source": [
    "run(host='localhost', port=8081)"
   ]
  }
 ],
 "metadata": {
  "kernelspec": {
   "display_name": "Python 3",
   "language": "python",
   "name": "python3"
  },
  "language_info": {
   "codemirror_mode": {
    "name": "ipython",
    "version": 3
   },
   "file_extension": ".py",
   "mimetype": "text/x-python",
   "name": "python",
   "nbconvert_exporter": "python",
   "pygments_lexer": "ipython3",
   "version": "3.7.4"
  }
 },
 "nbformat": 4,
 "nbformat_minor": 4
}
